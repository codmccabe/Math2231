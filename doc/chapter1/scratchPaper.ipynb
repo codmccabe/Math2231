{
 "cells": [
  {
   "cell_type": "code",
   "execution_count": 1,
   "id": "4ad34964-da33-48f4-a2fc-f110b08af951",
   "metadata": {},
   "outputs": [
    {
     "data": {
      "text/latex": [
       "\\[\\tag{${\\it \\%o}_{0}$}\\left[ x=-1 \\right] \\]"
      ],
      "text/plain": [
       "(%o0)                              [x = - 1]"
      ],
      "text/x-maxima": [
       "[x = -1]"
      ]
     },
     "execution_count": 1,
     "metadata": {},
     "output_type": "execute_result"
    }
   ],
   "source": [
    "solve((3*x+2)/(x-2) + (1/x) = (-2)/(x^2 -2*x),x);"
   ]
  },
  {
   "cell_type": "code",
   "execution_count": null,
   "id": "6aec9b12-33e0-4830-b2d9-19d6ffba4b99",
   "metadata": {},
   "outputs": [],
   "source": []
  }
 ],
 "metadata": {
  "kernelspec": {
   "display_name": "Maxima",
   "language": "maxima",
   "name": "maxima"
  },
  "language_info": {
   "codemirror_mode": "maxima",
   "file_extension": ".mac",
   "mimetype": "text/x-maxima",
   "name": "maxima",
   "pygments_lexer": "maxima",
   "version": "5.45.1"
  }
 },
 "nbformat": 4,
 "nbformat_minor": 5
}
